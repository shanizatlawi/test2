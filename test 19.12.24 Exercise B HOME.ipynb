{
 "cells": [
  {
   "cell_type": "code",
   "execution_count": 5,
   "id": "1598e94c",
   "metadata": {},
   "outputs": [],
   "source": [
    "data = [\n",
    "    {\"cust_id\": 1, \"timestamp\": \"2024-01-01\", \"residence\": \"Tel Aviv\", \"grade\": 8},\n",
    "    {\"cust_id\": 2, \"timestamp\": \"2024-01-02\", \"residence\": \"Jerusalem\", \"grade\": None},\n",
    "    {\"cust_id\": 1, \"timestamp\": \"2024-01-03\", \"residence\": \"Tel Aviv\", \"grade\": 8},\n",
    "    {\"cust_id\": 3, \"timestamp\": \"2024-01-04\", \"residence\": None, \"grade\": 7},\n",
    "    {\"cust_id\": 2, \"timestamp\": \"2024-01-05\", \"residence\": \"Jerusalem\", \"grade\": None}\n",
    "]\n"
   ]
  },
  {
   "cell_type": "code",
   "execution_count": 9,
   "id": "77fb4a8a",
   "metadata": {},
   "outputs": [
    {
     "name": "stdout",
     "output_type": "stream",
     "text": [
      "After removing duplicates:\n",
      "[{'cust_id': 1, 'timestamp': '2024-01-01', 'residence': 'Tel Aviv', 'grade': 8}, {'cust_id': 2, 'timestamp': '2024-01-02', 'residence': 'Jerusalem', 'grade': 7.666666666666667}, {'cust_id': 3, 'timestamp': '2024-01-04', 'residence': None, 'grade': 7}]\n"
     ]
    }
   ],
   "source": [
    "def remove_duplicates(data):\n",
    "    seen = set()\n",
    "    result = []\n",
    "    for entry in data:\n",
    "        if entry[\"cust_id\"] not in seen:\n",
    "            seen.add(entry[\"cust_id\"])\n",
    "            result.append(entry)\n",
    "    return result\n",
    "\n",
    "data_no_duplicates = remove_duplicates(data)\n",
    "print(\"After removing duplicates:\")\n",
    "print(data_no_duplicates)\n",
    "\n"
   ]
  },
  {
   "cell_type": "code",
   "execution_count": 10,
   "id": "8739c437",
   "metadata": {},
   "outputs": [
    {
     "name": "stdout",
     "output_type": "stream",
     "text": [
      "After removing rows with None:\n",
      "[{'cust_id': 1, 'timestamp': '2024-01-01', 'residence': 'Tel Aviv', 'grade': 8}, {'cust_id': 2, 'timestamp': '2024-01-02', 'residence': 'Jerusalem', 'grade': 7.666666666666667}, {'cust_id': 1, 'timestamp': '2024-01-03', 'residence': 'Tel Aviv', 'grade': 8}, {'cust_id': 2, 'timestamp': '2024-01-05', 'residence': 'Jerusalem', 'grade': 7.666666666666667}]\n"
     ]
    }
   ],
   "source": [
    "def remove_rows_with_none(data):\n",
    "    return [entry for entry in data if None not in entry.values()]\n",
    "\n",
    "data_no_none = remove_rows_with_none(data)\n",
    "print(\"After removing rows with None:\")\n",
    "print(data_no_none)\n"
   ]
  },
  {
   "cell_type": "code",
   "execution_count": 11,
   "id": "79109de3",
   "metadata": {},
   "outputs": [
    {
     "name": "stdout",
     "output_type": "stream",
     "text": [
      "After replacing None grades with the average:\n",
      "[{'cust_id': 1, 'timestamp': '2024-01-01', 'residence': 'Tel Aviv', 'grade': 8}, {'cust_id': 2, 'timestamp': '2024-01-02', 'residence': 'Jerusalem', 'grade': 7.666666666666667}, {'cust_id': 1, 'timestamp': '2024-01-03', 'residence': 'Tel Aviv', 'grade': 8}, {'cust_id': 3, 'timestamp': '2024-01-04', 'residence': None, 'grade': 7}, {'cust_id': 2, 'timestamp': '2024-01-05', 'residence': 'Jerusalem', 'grade': 7.666666666666667}]\n"
     ]
    }
   ],
   "source": [
    "def replace_none_with_average(data):\n",
    "    grades = [entry[\"grade\"] for entry in data if entry[\"grade\"] is not None]\n",
    "    average_grade = sum(grades) / len(grades) if grades else 0\n",
    "    for entry in data:\n",
    "        if entry[\"grade\"] is None:\n",
    "            entry[\"grade\"] = average_grade\n",
    "    return data\n",
    "\n",
    "data_with_average = replace_none_with_average(data)\n",
    "print(\"After replacing None grades with the average:\")\n",
    "print(data_with_average)\n",
    "\n"
   ]
  },
  {
   "cell_type": "code",
   "execution_count": null,
   "id": "568bde4b",
   "metadata": {},
   "outputs": [],
   "source": []
  }
 ],
 "metadata": {
  "kernelspec": {
   "display_name": "Python 3 (ipykernel)",
   "language": "python",
   "name": "python3"
  },
  "language_info": {
   "codemirror_mode": {
    "name": "ipython",
    "version": 3
   },
   "file_extension": ".py",
   "mimetype": "text/x-python",
   "name": "python",
   "nbconvert_exporter": "python",
   "pygments_lexer": "ipython3",
   "version": "3.11.5"
  }
 },
 "nbformat": 4,
 "nbformat_minor": 5
}
